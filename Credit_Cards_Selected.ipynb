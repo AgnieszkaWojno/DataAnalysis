{
  "nbformat": 4,
  "nbformat_minor": 0,
  "metadata": {
    "colab": {
      "provenance": [],
      "authorship_tag": "ABX9TyN+IMZHRmfU3iBBOOTD7x2z"
    },
    "kernelspec": {
      "name": "python3",
      "display_name": "Python 3"
    },
    "language_info": {
      "name": "python"
    }
  },
  "cells": [
    {
      "cell_type": "code",
      "source": [
        "import pandas as pd\n",
        "import matplotlib.pyplot as plt\n",
        "\n",
        "# wczytanie danych o populacji zawierającej grupy z powyższonym odsetkiem deaktywowanych kart kredytowych\n",
        "df_deactivated = pd.read_csv(\n",
        "    'https://raw.githubusercontent.com/CodersLab/DataLab_intro/main/processed/BankChurner_Deactivated.csv',\n",
        "    sep=\";\"\n",
        ")\n",
        "\n",
        "# wczytanie danych o populacji zawierającej grupy z 'standardowym' odsetkiem deaktywowanych kart kredytowych\n",
        "df_active = pd.read_csv(\n",
        "    'https://raw.githubusercontent.com/CodersLab/DataLab_intro/main/processed/BankChurner_Active.csv',\n",
        "    sep=\";\"\n",
        ")"
      ],
      "metadata": {
        "id": "1VImEDLysYq4"
      },
      "execution_count": 1,
      "outputs": []
    },
    {
      "cell_type": "code",
      "source": [
        "df_deactivated.head()"
      ],
      "metadata": {
        "colab": {
          "base_uri": "https://localhost:8080/",
          "height": 386
        },
        "id": "SWKVDJPJsrvW",
        "outputId": "0247edf1-4e27-4baa-d5e7-a9ce40d03dac"
      },
      "execution_count": 5,
      "outputs": [
        {
          "output_type": "execute_result",
          "data": {
            "text/plain": [
              "   Client_ID     Attrition_Flag  Customer_Age Gender  Dependent_count  \\\n",
              "0  768805383  Existing Customer            45      M                3   \n",
              "1  818770008  Existing Customer            49      F                5   \n",
              "2  810347208  Existing Customer            51      M                4   \n",
              "3  818906208  Existing Customer            32      M                0   \n",
              "4  719661558  Existing Customer            48      M                2   \n",
              "\n",
              "  Education_Level Marital_Status Income_Category Card_Category  \\\n",
              "0  3. High School        Married   3. $60K - 80K       1. Blue   \n",
              "1     4. Graduate         Single       1. < $40K       1. Blue   \n",
              "2      7. Unknown        Married        5. 120K+       3. Gold   \n",
              "3  3. High School        Unknown   3. $60K - 80K     2. Silver   \n",
              "4     4. Graduate         Single  4. $80K - 120K       1. Blue   \n",
              "\n",
              "   Months_on_book  ...  Total_Amt_Chng_Q4_Q1  Total_Trans_Amt  Total_Trans_Ct  \\\n",
              "0              39  ...                 1.335             1144              42   \n",
              "1              44  ...                 1.541             1291              33   \n",
              "2              46  ...                 1.975             1330              31   \n",
              "3              27  ...                 2.204             1538              36   \n",
              "4              36  ...                 1.524             1441              32   \n",
              "\n",
              "   Total_Ct_Chng_Q4_Q1  Avg_Utilization_Ratio  Is_Active  Years_on_book  \\\n",
              "0                1.625                  0.061          1         (3, 4]   \n",
              "1                3.714                  0.105          1         (3, 4]   \n",
              "2                0.722                  0.066          1         (3, 4]   \n",
              "3                0.714                  0.048          1         (2, 3]   \n",
              "4                0.882                  0.144          1         (2, 3]   \n",
              "\n",
              "   Customer_Age_agg  Total_Trans_Amt_agg  Total_Trans_Ct_agg  \n",
              "0          (40, 45]         (1000, 1500]            (40, 50]  \n",
              "1          (45, 50]         (1000, 1500]            (30, 40]  \n",
              "2          (50, 55]         (1000, 1500]            (30, 40]  \n",
              "3          (30, 35]         (1500, 2000]            (30, 40]  \n",
              "4          (45, 50]         (1000, 1500]            (30, 40]  \n",
              "\n",
              "[5 rows x 26 columns]"
            ],
            "text/html": [
              "\n",
              "  <div id=\"df-368c09f4-36e6-4add-a9a6-9ea2a651adf9\">\n",
              "    <div class=\"colab-df-container\">\n",
              "      <div>\n",
              "<style scoped>\n",
              "    .dataframe tbody tr th:only-of-type {\n",
              "        vertical-align: middle;\n",
              "    }\n",
              "\n",
              "    .dataframe tbody tr th {\n",
              "        vertical-align: top;\n",
              "    }\n",
              "\n",
              "    .dataframe thead th {\n",
              "        text-align: right;\n",
              "    }\n",
              "</style>\n",
              "<table border=\"1\" class=\"dataframe\">\n",
              "  <thead>\n",
              "    <tr style=\"text-align: right;\">\n",
              "      <th></th>\n",
              "      <th>Client_ID</th>\n",
              "      <th>Attrition_Flag</th>\n",
              "      <th>Customer_Age</th>\n",
              "      <th>Gender</th>\n",
              "      <th>Dependent_count</th>\n",
              "      <th>Education_Level</th>\n",
              "      <th>Marital_Status</th>\n",
              "      <th>Income_Category</th>\n",
              "      <th>Card_Category</th>\n",
              "      <th>Months_on_book</th>\n",
              "      <th>...</th>\n",
              "      <th>Total_Amt_Chng_Q4_Q1</th>\n",
              "      <th>Total_Trans_Amt</th>\n",
              "      <th>Total_Trans_Ct</th>\n",
              "      <th>Total_Ct_Chng_Q4_Q1</th>\n",
              "      <th>Avg_Utilization_Ratio</th>\n",
              "      <th>Is_Active</th>\n",
              "      <th>Years_on_book</th>\n",
              "      <th>Customer_Age_agg</th>\n",
              "      <th>Total_Trans_Amt_agg</th>\n",
              "      <th>Total_Trans_Ct_agg</th>\n",
              "    </tr>\n",
              "  </thead>\n",
              "  <tbody>\n",
              "    <tr>\n",
              "      <th>0</th>\n",
              "      <td>768805383</td>\n",
              "      <td>Existing Customer</td>\n",
              "      <td>45</td>\n",
              "      <td>M</td>\n",
              "      <td>3</td>\n",
              "      <td>3. High School</td>\n",
              "      <td>Married</td>\n",
              "      <td>3. $60K - 80K</td>\n",
              "      <td>1. Blue</td>\n",
              "      <td>39</td>\n",
              "      <td>...</td>\n",
              "      <td>1.335</td>\n",
              "      <td>1144</td>\n",
              "      <td>42</td>\n",
              "      <td>1.625</td>\n",
              "      <td>0.061</td>\n",
              "      <td>1</td>\n",
              "      <td>(3, 4]</td>\n",
              "      <td>(40, 45]</td>\n",
              "      <td>(1000, 1500]</td>\n",
              "      <td>(40, 50]</td>\n",
              "    </tr>\n",
              "    <tr>\n",
              "      <th>1</th>\n",
              "      <td>818770008</td>\n",
              "      <td>Existing Customer</td>\n",
              "      <td>49</td>\n",
              "      <td>F</td>\n",
              "      <td>5</td>\n",
              "      <td>4. Graduate</td>\n",
              "      <td>Single</td>\n",
              "      <td>1. &lt; $40K</td>\n",
              "      <td>1. Blue</td>\n",
              "      <td>44</td>\n",
              "      <td>...</td>\n",
              "      <td>1.541</td>\n",
              "      <td>1291</td>\n",
              "      <td>33</td>\n",
              "      <td>3.714</td>\n",
              "      <td>0.105</td>\n",
              "      <td>1</td>\n",
              "      <td>(3, 4]</td>\n",
              "      <td>(45, 50]</td>\n",
              "      <td>(1000, 1500]</td>\n",
              "      <td>(30, 40]</td>\n",
              "    </tr>\n",
              "    <tr>\n",
              "      <th>2</th>\n",
              "      <td>810347208</td>\n",
              "      <td>Existing Customer</td>\n",
              "      <td>51</td>\n",
              "      <td>M</td>\n",
              "      <td>4</td>\n",
              "      <td>7. Unknown</td>\n",
              "      <td>Married</td>\n",
              "      <td>5. 120K+</td>\n",
              "      <td>3. Gold</td>\n",
              "      <td>46</td>\n",
              "      <td>...</td>\n",
              "      <td>1.975</td>\n",
              "      <td>1330</td>\n",
              "      <td>31</td>\n",
              "      <td>0.722</td>\n",
              "      <td>0.066</td>\n",
              "      <td>1</td>\n",
              "      <td>(3, 4]</td>\n",
              "      <td>(50, 55]</td>\n",
              "      <td>(1000, 1500]</td>\n",
              "      <td>(30, 40]</td>\n",
              "    </tr>\n",
              "    <tr>\n",
              "      <th>3</th>\n",
              "      <td>818906208</td>\n",
              "      <td>Existing Customer</td>\n",
              "      <td>32</td>\n",
              "      <td>M</td>\n",
              "      <td>0</td>\n",
              "      <td>3. High School</td>\n",
              "      <td>Unknown</td>\n",
              "      <td>3. $60K - 80K</td>\n",
              "      <td>2. Silver</td>\n",
              "      <td>27</td>\n",
              "      <td>...</td>\n",
              "      <td>2.204</td>\n",
              "      <td>1538</td>\n",
              "      <td>36</td>\n",
              "      <td>0.714</td>\n",
              "      <td>0.048</td>\n",
              "      <td>1</td>\n",
              "      <td>(2, 3]</td>\n",
              "      <td>(30, 35]</td>\n",
              "      <td>(1500, 2000]</td>\n",
              "      <td>(30, 40]</td>\n",
              "    </tr>\n",
              "    <tr>\n",
              "      <th>4</th>\n",
              "      <td>719661558</td>\n",
              "      <td>Existing Customer</td>\n",
              "      <td>48</td>\n",
              "      <td>M</td>\n",
              "      <td>2</td>\n",
              "      <td>4. Graduate</td>\n",
              "      <td>Single</td>\n",
              "      <td>4. $80K - 120K</td>\n",
              "      <td>1. Blue</td>\n",
              "      <td>36</td>\n",
              "      <td>...</td>\n",
              "      <td>1.524</td>\n",
              "      <td>1441</td>\n",
              "      <td>32</td>\n",
              "      <td>0.882</td>\n",
              "      <td>0.144</td>\n",
              "      <td>1</td>\n",
              "      <td>(2, 3]</td>\n",
              "      <td>(45, 50]</td>\n",
              "      <td>(1000, 1500]</td>\n",
              "      <td>(30, 40]</td>\n",
              "    </tr>\n",
              "  </tbody>\n",
              "</table>\n",
              "<p>5 rows × 26 columns</p>\n",
              "</div>\n",
              "      <button class=\"colab-df-convert\" onclick=\"convertToInteractive('df-368c09f4-36e6-4add-a9a6-9ea2a651adf9')\"\n",
              "              title=\"Convert this dataframe to an interactive table.\"\n",
              "              style=\"display:none;\">\n",
              "        \n",
              "  <svg xmlns=\"http://www.w3.org/2000/svg\" height=\"24px\"viewBox=\"0 0 24 24\"\n",
              "       width=\"24px\">\n",
              "    <path d=\"M0 0h24v24H0V0z\" fill=\"none\"/>\n",
              "    <path d=\"M18.56 5.44l.94 2.06.94-2.06 2.06-.94-2.06-.94-.94-2.06-.94 2.06-2.06.94zm-11 1L8.5 8.5l.94-2.06 2.06-.94-2.06-.94L8.5 2.5l-.94 2.06-2.06.94zm10 10l.94 2.06.94-2.06 2.06-.94-2.06-.94-.94-2.06-.94 2.06-2.06.94z\"/><path d=\"M17.41 7.96l-1.37-1.37c-.4-.4-.92-.59-1.43-.59-.52 0-1.04.2-1.43.59L10.3 9.45l-7.72 7.72c-.78.78-.78 2.05 0 2.83L4 21.41c.39.39.9.59 1.41.59.51 0 1.02-.2 1.41-.59l7.78-7.78 2.81-2.81c.8-.78.8-2.07 0-2.86zM5.41 20L4 18.59l7.72-7.72 1.47 1.35L5.41 20z\"/>\n",
              "  </svg>\n",
              "      </button>\n",
              "      \n",
              "  <style>\n",
              "    .colab-df-container {\n",
              "      display:flex;\n",
              "      flex-wrap:wrap;\n",
              "      gap: 12px;\n",
              "    }\n",
              "\n",
              "    .colab-df-convert {\n",
              "      background-color: #E8F0FE;\n",
              "      border: none;\n",
              "      border-radius: 50%;\n",
              "      cursor: pointer;\n",
              "      display: none;\n",
              "      fill: #1967D2;\n",
              "      height: 32px;\n",
              "      padding: 0 0 0 0;\n",
              "      width: 32px;\n",
              "    }\n",
              "\n",
              "    .colab-df-convert:hover {\n",
              "      background-color: #E2EBFA;\n",
              "      box-shadow: 0px 1px 2px rgba(60, 64, 67, 0.3), 0px 1px 3px 1px rgba(60, 64, 67, 0.15);\n",
              "      fill: #174EA6;\n",
              "    }\n",
              "\n",
              "    [theme=dark] .colab-df-convert {\n",
              "      background-color: #3B4455;\n",
              "      fill: #D2E3FC;\n",
              "    }\n",
              "\n",
              "    [theme=dark] .colab-df-convert:hover {\n",
              "      background-color: #434B5C;\n",
              "      box-shadow: 0px 1px 3px 1px rgba(0, 0, 0, 0.15);\n",
              "      filter: drop-shadow(0px 1px 2px rgba(0, 0, 0, 0.3));\n",
              "      fill: #FFFFFF;\n",
              "    }\n",
              "  </style>\n",
              "\n",
              "      <script>\n",
              "        const buttonEl =\n",
              "          document.querySelector('#df-368c09f4-36e6-4add-a9a6-9ea2a651adf9 button.colab-df-convert');\n",
              "        buttonEl.style.display =\n",
              "          google.colab.kernel.accessAllowed ? 'block' : 'none';\n",
              "\n",
              "        async function convertToInteractive(key) {\n",
              "          const element = document.querySelector('#df-368c09f4-36e6-4add-a9a6-9ea2a651adf9');\n",
              "          const dataTable =\n",
              "            await google.colab.kernel.invokeFunction('convertToInteractive',\n",
              "                                                     [key], {});\n",
              "          if (!dataTable) return;\n",
              "\n",
              "          const docLinkHtml = 'Like what you see? Visit the ' +\n",
              "            '<a target=\"_blank\" href=https://colab.research.google.com/notebooks/data_table.ipynb>data table notebook</a>'\n",
              "            + ' to learn more about interactive tables.';\n",
              "          element.innerHTML = '';\n",
              "          dataTable['output_type'] = 'display_data';\n",
              "          await google.colab.output.renderOutput(dataTable, element);\n",
              "          const docLink = document.createElement('div');\n",
              "          docLink.innerHTML = docLinkHtml;\n",
              "          element.appendChild(docLink);\n",
              "        }\n",
              "      </script>\n",
              "    </div>\n",
              "  </div>\n",
              "  "
            ]
          },
          "metadata": {},
          "execution_count": 5
        }
      ]
    },
    {
      "cell_type": "code",
      "source": [
        "df_deactivated.shape"
      ],
      "metadata": {
        "colab": {
          "base_uri": "https://localhost:8080/"
        },
        "id": "xjhE8mOEt-qn",
        "outputId": "d86f61a8-9a9d-4954-c20d-a72eb8e0e96f"
      },
      "execution_count": 6,
      "outputs": [
        {
          "output_type": "execute_result",
          "data": {
            "text/plain": [
              "(3142, 26)"
            ]
          },
          "metadata": {},
          "execution_count": 6
        }
      ]
    },
    {
      "cell_type": "markdown",
      "source": [
        "## Porównanie grup\n",
        "W tej części będziemy porównywać poszczególne grupy – kolumna po kolumnie. Zbadamy w ten sposób, czy pomiędzy populacją kart aktywnych istnieją istotne rozbieżności w porównaniu do populacji, w której karty zostały zdezaktywowane.\n",
        "\n",
        "Podobnie jak wcześniej, zanim przejdziemy do wydobywania informacji z danych, przygotujemy sobie szablon do pracy. W tym celu stworzymy dwie funkcje, jedną, która zwróci nam raport w formie tabelarycznej oraz drugą, która zwróci nam wykres.\n",
        "\n",
        "Funkcja, która będzie zwracała tabelkę, będzie korzystała z metody Pandas crosstab. W swojej funkcjonalności jest ona bardzo zbliżona do pivot_table, ponieważ obydwie tworzą raport w formie tabeli przestawnej. Jednak, co istotne, użycie crosstab pozwala na zdecydowanie łatwiejsze wyznaczenie rozkładu procentowego poszczególnych grup w obrębie kategorii."
      ],
      "metadata": {
        "id": "DsCPVDIlunIz"
      }
    },
    {
      "cell_type": "code",
      "source": [
        "def compare_groups(col_name):\n",
        "    ct = pd.crosstab(\n",
        "        index=df[col_name],  # określamy, która kolumna ma być wyświetlona na wierszach\n",
        "        columns=df[\"Group_Name\"],  # określamy, że na kolumnach będą pojawiać się tylko dwie grupy (karty aktywne/nieaktywne)\n",
        "        values=df[\"Client_ID\"],  # określamy, która kolumna ma zostać zagregowana\n",
        "        aggfunc=\"count\",  # określamy funkcję do agregacji, tutaj - zliczanie\n",
        "        normalize=\"columns\"  # określamy, że chcemy wyznaczyć rozkład procentowy dla kolumn (odpowiednik podsumuje jako % kolumny z Excel)\n",
        "    )\n",
        "\n",
        "    # stworzymy sobie dodatkowo kolumnę `Diff`, która będzie mówiła nam\n",
        "    # o różnicach w poszczególnych grupach\n",
        "    ct[\"Diff\"] = ct.apply(\n",
        "        lambda x: x[0] - x[1],  # x[0] oznacza tutaj kolumnę Active, zaś x[1] Deactivated\n",
        "        axis=1  # określamy, że chcemy przebiegać ramkę powyższą funkcją wiersz po wierszu\n",
        "    )\n",
        "    return ct"
      ],
      "metadata": {
        "id": "X9pPQhbsuGYC"
      },
      "execution_count": 3,
      "outputs": []
    },
    {
      "cell_type": "code",
      "source": [
        "def visualize_comparison(ct):\n",
        "    # w pierwszej kolejności usuwamy kolumnę diff, nie chcemy jej wyświetlać na wykresie\n",
        "    _ct = ct.drop(columns=[\"Diff\"])\n",
        "\n",
        "    # tworzenie wykresu\n",
        "    fig = _ct.plot(\n",
        "        kind=\"bar\",  # określamy typ wykresu\n",
        "        title=\"Comparision between groups\",\n",
        "        figsize=(15, 10)\n",
        "        )\n",
        "\n",
        "    return fig"
      ],
      "metadata": {
        "id": "Ls9_IZI0NmSt"
      },
      "execution_count": 17,
      "outputs": []
    },
    {
      "cell_type": "markdown",
      "source": [
        "# Przygotowanie danych\n",
        "W tym kroku wykonamy następujące czynności:\n",
        "\n",
        "do ramki df_deactivated dodamy nową kolumnę Group_Name, w której będzie zawarta informacja o przynależności do grupy Deactivated\n",
        "do ramki df_active dodamy również kolumnę Group_Name, w której będzie tylko wartość Active\n",
        "połączymy je w jedną ramkę zapisaną do zmiennej df, która posłuży do wyznaczenia porównania."
      ],
      "metadata": {
        "id": "Of-hqiJ0Okfx"
      }
    },
    {
      "cell_type": "code",
      "source": [
        "df_deactivated[\"Group_Name\"] = \"Deactivated\"\n",
        "df_active[\"Group_Name\"] = \"Active\"\n",
        "\n",
        "df = pd.concat([df_active, df_deactivated])"
      ],
      "metadata": {
        "id": "VfClKo3XONom"
      },
      "execution_count": 5,
      "outputs": []
    },
    {
      "cell_type": "code",
      "source": [
        "gender_ct = compare_groups(\"Gender\")\n",
        "gender_ct"
      ],
      "metadata": {
        "colab": {
          "base_uri": "https://localhost:8080/",
          "height": 143
        },
        "id": "RbvS-gK5OpR2",
        "outputId": "6beb5e0f-4c51-4391-e987-677e20ca6608"
      },
      "execution_count": 19,
      "outputs": [
        {
          "output_type": "execute_result",
          "data": {
            "text/plain": [
              "Group_Name    Active  Deactivated      Diff\n",
              "Gender                                     \n",
              "F           0.548175     0.486633  0.061542\n",
              "M           0.451825     0.513367 -0.061542"
            ],
            "text/html": [
              "\n",
              "  <div id=\"df-d490e8fb-cc7c-42cb-bf3b-b05d05c4f987\">\n",
              "    <div class=\"colab-df-container\">\n",
              "      <div>\n",
              "<style scoped>\n",
              "    .dataframe tbody tr th:only-of-type {\n",
              "        vertical-align: middle;\n",
              "    }\n",
              "\n",
              "    .dataframe tbody tr th {\n",
              "        vertical-align: top;\n",
              "    }\n",
              "\n",
              "    .dataframe thead th {\n",
              "        text-align: right;\n",
              "    }\n",
              "</style>\n",
              "<table border=\"1\" class=\"dataframe\">\n",
              "  <thead>\n",
              "    <tr style=\"text-align: right;\">\n",
              "      <th>Group_Name</th>\n",
              "      <th>Active</th>\n",
              "      <th>Deactivated</th>\n",
              "      <th>Diff</th>\n",
              "    </tr>\n",
              "    <tr>\n",
              "      <th>Gender</th>\n",
              "      <th></th>\n",
              "      <th></th>\n",
              "      <th></th>\n",
              "    </tr>\n",
              "  </thead>\n",
              "  <tbody>\n",
              "    <tr>\n",
              "      <th>F</th>\n",
              "      <td>0.548175</td>\n",
              "      <td>0.486633</td>\n",
              "      <td>0.061542</td>\n",
              "    </tr>\n",
              "    <tr>\n",
              "      <th>M</th>\n",
              "      <td>0.451825</td>\n",
              "      <td>0.513367</td>\n",
              "      <td>-0.061542</td>\n",
              "    </tr>\n",
              "  </tbody>\n",
              "</table>\n",
              "</div>\n",
              "      <button class=\"colab-df-convert\" onclick=\"convertToInteractive('df-d490e8fb-cc7c-42cb-bf3b-b05d05c4f987')\"\n",
              "              title=\"Convert this dataframe to an interactive table.\"\n",
              "              style=\"display:none;\">\n",
              "        \n",
              "  <svg xmlns=\"http://www.w3.org/2000/svg\" height=\"24px\"viewBox=\"0 0 24 24\"\n",
              "       width=\"24px\">\n",
              "    <path d=\"M0 0h24v24H0V0z\" fill=\"none\"/>\n",
              "    <path d=\"M18.56 5.44l.94 2.06.94-2.06 2.06-.94-2.06-.94-.94-2.06-.94 2.06-2.06.94zm-11 1L8.5 8.5l.94-2.06 2.06-.94-2.06-.94L8.5 2.5l-.94 2.06-2.06.94zm10 10l.94 2.06.94-2.06 2.06-.94-2.06-.94-.94-2.06-.94 2.06-2.06.94z\"/><path d=\"M17.41 7.96l-1.37-1.37c-.4-.4-.92-.59-1.43-.59-.52 0-1.04.2-1.43.59L10.3 9.45l-7.72 7.72c-.78.78-.78 2.05 0 2.83L4 21.41c.39.39.9.59 1.41.59.51 0 1.02-.2 1.41-.59l7.78-7.78 2.81-2.81c.8-.78.8-2.07 0-2.86zM5.41 20L4 18.59l7.72-7.72 1.47 1.35L5.41 20z\"/>\n",
              "  </svg>\n",
              "      </button>\n",
              "      \n",
              "  <style>\n",
              "    .colab-df-container {\n",
              "      display:flex;\n",
              "      flex-wrap:wrap;\n",
              "      gap: 12px;\n",
              "    }\n",
              "\n",
              "    .colab-df-convert {\n",
              "      background-color: #E8F0FE;\n",
              "      border: none;\n",
              "      border-radius: 50%;\n",
              "      cursor: pointer;\n",
              "      display: none;\n",
              "      fill: #1967D2;\n",
              "      height: 32px;\n",
              "      padding: 0 0 0 0;\n",
              "      width: 32px;\n",
              "    }\n",
              "\n",
              "    .colab-df-convert:hover {\n",
              "      background-color: #E2EBFA;\n",
              "      box-shadow: 0px 1px 2px rgba(60, 64, 67, 0.3), 0px 1px 3px 1px rgba(60, 64, 67, 0.15);\n",
              "      fill: #174EA6;\n",
              "    }\n",
              "\n",
              "    [theme=dark] .colab-df-convert {\n",
              "      background-color: #3B4455;\n",
              "      fill: #D2E3FC;\n",
              "    }\n",
              "\n",
              "    [theme=dark] .colab-df-convert:hover {\n",
              "      background-color: #434B5C;\n",
              "      box-shadow: 0px 1px 3px 1px rgba(0, 0, 0, 0.15);\n",
              "      filter: drop-shadow(0px 1px 2px rgba(0, 0, 0, 0.3));\n",
              "      fill: #FFFFFF;\n",
              "    }\n",
              "  </style>\n",
              "\n",
              "      <script>\n",
              "        const buttonEl =\n",
              "          document.querySelector('#df-d490e8fb-cc7c-42cb-bf3b-b05d05c4f987 button.colab-df-convert');\n",
              "        buttonEl.style.display =\n",
              "          google.colab.kernel.accessAllowed ? 'block' : 'none';\n",
              "\n",
              "        async function convertToInteractive(key) {\n",
              "          const element = document.querySelector('#df-d490e8fb-cc7c-42cb-bf3b-b05d05c4f987');\n",
              "          const dataTable =\n",
              "            await google.colab.kernel.invokeFunction('convertToInteractive',\n",
              "                                                     [key], {});\n",
              "          if (!dataTable) return;\n",
              "\n",
              "          const docLinkHtml = 'Like what you see? Visit the ' +\n",
              "            '<a target=\"_blank\" href=https://colab.research.google.com/notebooks/data_table.ipynb>data table notebook</a>'\n",
              "            + ' to learn more about interactive tables.';\n",
              "          element.innerHTML = '';\n",
              "          dataTable['output_type'] = 'display_data';\n",
              "          await google.colab.output.renderOutput(dataTable, element);\n",
              "          const docLink = document.createElement('div');\n",
              "          docLink.innerHTML = docLinkHtml;\n",
              "          element.appendChild(docLink);\n",
              "        }\n",
              "      </script>\n",
              "    </div>\n",
              "  </div>\n",
              "  "
            ]
          },
          "metadata": {},
          "execution_count": 19
        }
      ]
    },
    {
      "cell_type": "code",
      "source": [
        "visualize_comparison(gender_ct)"
      ],
      "metadata": {
        "colab": {
          "base_uri": "https://localhost:8080/",
          "height": 637
        },
        "id": "73643Zp3Oske",
        "outputId": "8537351b-39db-49f9-e126-f0f10b78a580"
      },
      "execution_count": 18,
      "outputs": [
        {
          "output_type": "execute_result",
          "data": {
            "text/plain": [
              "<matplotlib.axes._subplots.AxesSubplot at 0x7ffa62361dd0>"
            ]
          },
          "metadata": {},
          "execution_count": 18
        },
        {
          "output_type": "display_data",
          "data": {
            "text/plain": [
              "<Figure size 1080x720 with 1 Axes>"
            ],
            "image/png": "[encoded data removed]"
          },
          "metadata": {
            "needs_background": "light"
          }
        }
      ]
    },
    {
      "cell_type": "markdown",
      "source": [
        "Porównanie według Education_level"
      ],
      "metadata": {
        "id": "Imd6HiWrQNx1"
      }
    },
    {
      "cell_type": "code",
      "source": [
        "education_level_ct = compare_groups(\"Education_Level\")\n",
        "education_level_ct"
      ],
      "metadata": {
        "colab": {
          "base_uri": "https://localhost:8080/",
          "height": 300
        },
        "id": "VKHsyfd4PL1q",
        "outputId": "5596bc06-4feb-4abf-dd49-0c8d080006fb"
      },
      "execution_count": 20,
      "outputs": [
        {
          "output_type": "execute_result",
          "data": {
            "text/plain": [
              "Group_Name          Active  Deactivated      Diff\n",
              "Education_Level                                  \n",
              "1. Uneducated     0.148890     0.142266  0.006624\n",
              "2. College        0.099785     0.100573 -0.000788\n",
              "3. High School    0.198282     0.199873 -0.001591\n",
              "4. Graduate       0.309807     0.306811  0.002996\n",
              "5. Post-Graduate  0.051110     0.050605  0.000505\n",
              "6. Doctorate      0.042233     0.049650 -0.007417\n",
              "7. Unknown        0.149893     0.150223 -0.000330"
            ],
            "text/html": [
              "\n",
              "  <div id=\"df-0ecc2dcd-c7fb-4ecd-b9dd-19aadd472b88\">\n",
              "    <div class=\"colab-df-container\">\n",
              "      <div>\n",
              "<style scoped>\n",
              "    .dataframe tbody tr th:only-of-type {\n",
              "        vertical-align: middle;\n",
              "    }\n",
              "\n",
              "    .dataframe tbody tr th {\n",
              "        vertical-align: top;\n",
              "    }\n",
              "\n",
              "    .dataframe thead th {\n",
              "        text-align: right;\n",
              "    }\n",
              "</style>\n",
              "<table border=\"1\" class=\"dataframe\">\n",
              "  <thead>\n",
              "    <tr style=\"text-align: right;\">\n",
              "      <th>Group_Name</th>\n",
              "      <th>Active</th>\n",
              "      <th>Deactivated</th>\n",
              "      <th>Diff</th>\n",
              "    </tr>\n",
              "    <tr>\n",
              "      <th>Education_Level</th>\n",
              "      <th></th>\n",
              "      <th></th>\n",
              "      <th></th>\n",
              "    </tr>\n",
              "  </thead>\n",
              "  <tbody>\n",
              "    <tr>\n",
              "      <th>1. Uneducated</th>\n",
              "      <td>0.148890</td>\n",
              "      <td>0.142266</td>\n",
              "      <td>0.006624</td>\n",
              "    </tr>\n",
              "    <tr>\n",
              "      <th>2. College</th>\n",
              "      <td>0.099785</td>\n",
              "      <td>0.100573</td>\n",
              "      <td>-0.000788</td>\n",
              "    </tr>\n",
              "    <tr>\n",
              "      <th>3. High School</th>\n",
              "      <td>0.198282</td>\n",
              "      <td>0.199873</td>\n",
              "      <td>-0.001591</td>\n",
              "    </tr>\n",
              "    <tr>\n",
              "      <th>4. Graduate</th>\n",
              "      <td>0.309807</td>\n",
              "      <td>0.306811</td>\n",
              "      <td>0.002996</td>\n",
              "    </tr>\n",
              "    <tr>\n",
              "      <th>5. Post-Graduate</th>\n",
              "      <td>0.051110</td>\n",
              "      <td>0.050605</td>\n",
              "      <td>0.000505</td>\n",
              "    </tr>\n",
              "    <tr>\n",
              "      <th>6. Doctorate</th>\n",
              "      <td>0.042233</td>\n",
              "      <td>0.049650</td>\n",
              "      <td>-0.007417</td>\n",
              "    </tr>\n",
              "    <tr>\n",
              "      <th>7. Unknown</th>\n",
              "      <td>0.149893</td>\n",
              "      <td>0.150223</td>\n",
              "      <td>-0.000330</td>\n",
              "    </tr>\n",
              "  </tbody>\n",
              "</table>\n",
              "</div>\n",
              "      <button class=\"colab-df-convert\" onclick=\"convertToInteractive('df-0ecc2dcd-c7fb-4ecd-b9dd-19aadd472b88')\"\n",
              "              title=\"Convert this dataframe to an interactive table.\"\n",
              "              style=\"display:none;\">\n",
              "        \n",
              "  <svg xmlns=\"http://www.w3.org/2000/svg\" height=\"24px\"viewBox=\"0 0 24 24\"\n",
              "       width=\"24px\">\n",
              "    <path d=\"M0 0h24v24H0V0z\" fill=\"none\"/>\n",
              "    <path d=\"M18.56 5.44l.94 2.06.94-2.06 2.06-.94-2.06-.94-.94-2.06-.94 2.06-2.06.94zm-11 1L8.5 8.5l.94-2.06 2.06-.94-2.06-.94L8.5 2.5l-.94 2.06-2.06.94zm10 10l.94 2.06.94-2.06 2.06-.94-2.06-.94-.94-2.06-.94 2.06-2.06.94z\"/><path d=\"M17.41 7.96l-1.37-1.37c-.4-.4-.92-.59-1.43-.59-.52 0-1.04.2-1.43.59L10.3 9.45l-7.72 7.72c-.78.78-.78 2.05 0 2.83L4 21.41c.39.39.9.59 1.41.59.51 0 1.02-.2 1.41-.59l7.78-7.78 2.81-2.81c.8-.78.8-2.07 0-2.86zM5.41 20L4 18.59l7.72-7.72 1.47 1.35L5.41 20z\"/>\n",
              "  </svg>\n",
              "      </button>\n",
              "      \n",
              "  <style>\n",
              "    .colab-df-container {\n",
              "      display:flex;\n",
              "      flex-wrap:wrap;\n",
              "      gap: 12px;\n",
              "    }\n",
              "\n",
              "    .colab-df-convert {\n",
              "      background-color: #E8F0FE;\n",
              "      border: none;\n",
              "      border-radius: 50%;\n",
              "      cursor: pointer;\n",
              "      display: none;\n",
              "      fill: #1967D2;\n",
              "      height: 32px;\n",
              "      padding: 0 0 0 0;\n",
              "      width: 32px;\n",
              "    }\n",
              "\n",
              "    .colab-df-convert:hover {\n",
              "      background-color: #E2EBFA;\n",
              "      box-shadow: 0px 1px 2px rgba(60, 64, 67, 0.3), 0px 1px 3px 1px rgba(60, 64, 67, 0.15);\n",
              "      fill: #174EA6;\n",
              "    }\n",
              "\n",
              "    [theme=dark] .colab-df-convert {\n",
              "      background-color: #3B4455;\n",
              "      fill: #D2E3FC;\n",
              "    }\n",
              "\n",
              "    [theme=dark] .colab-df-convert:hover {\n",
              "      background-color: #434B5C;\n",
              "      box-shadow: 0px 1px 3px 1px rgba(0, 0, 0, 0.15);\n",
              "      filter: drop-shadow(0px 1px 2px rgba(0, 0, 0, 0.3));\n",
              "      fill: #FFFFFF;\n",
              "    }\n",
              "  </style>\n",
              "\n",
              "      <script>\n",
              "        const buttonEl =\n",
              "          document.querySelector('#df-0ecc2dcd-c7fb-4ecd-b9dd-19aadd472b88 button.colab-df-convert');\n",
              "        buttonEl.style.display =\n",
              "          google.colab.kernel.accessAllowed ? 'block' : 'none';\n",
              "\n",
              "        async function convertToInteractive(key) {\n",
              "          const element = document.querySelector('#df-0ecc2dcd-c7fb-4ecd-b9dd-19aadd472b88');\n",
              "          const dataTable =\n",
              "            await google.colab.kernel.invokeFunction('convertToInteractive',\n",
              "                                                     [key], {});\n",
              "          if (!dataTable) return;\n",
              "\n",
              "          const docLinkHtml = 'Like what you see? Visit the ' +\n",
              "            '<a target=\"_blank\" href=https://colab.research.google.com/notebooks/data_table.ipynb>data table notebook</a>'\n",
              "            + ' to learn more about interactive tables.';\n",
              "          element.innerHTML = '';\n",
              "          dataTable['output_type'] = 'display_data';\n",
              "          await google.colab.output.renderOutput(dataTable, element);\n",
              "          const docLink = document.createElement('div');\n",
              "          docLink.innerHTML = docLinkHtml;\n",
              "          element.appendChild(docLink);\n",
              "        }\n",
              "      </script>\n",
              "    </div>\n",
              "  </div>\n",
              "  "
            ]
          },
          "metadata": {},
          "execution_count": 20
        }
      ]
    },
    {
      "cell_type": "code",
      "source": [
        "visualize_comparison(education_level_ct)"
      ],
      "metadata": {
        "colab": {
          "base_uri": "https://localhost:8080/",
          "height": 714
        },
        "id": "a9KWvvLRQQ-w",
        "outputId": "13a19c68-4c22-4fe1-f262-b7910370d89e"
      },
      "execution_count": 21,
      "outputs": [
        {
          "output_type": "execute_result",
          "data": {
            "text/plain": [
              "<matplotlib.axes._subplots.AxesSubplot at 0x7ffa621f8390>"
            ]
          },
          "metadata": {},
          "execution_count": 21
        },
        {
          "output_type": "display_data",
          "data": {
            "text/plain": [
              "<Figure size 1080x720 with 1 Axes>"
            ],
            "image/png": "[encoded data removed]"
          },
          "metadata": {
            "needs_background": "light"
          }
        }
      ]
    },
    {
      "cell_type": "markdown",
      "source": [
        "Podsumowując, zmienna Education_Level nie różnicuje grupy kart dezaktywowanych oraz aktywnych."
      ],
      "metadata": {
        "id": "-RSngIDjQ2xH"
      }
    },
    {
      "cell_type": "markdown",
      "source": [
        "Porównanie według Marital_Status"
      ],
      "metadata": {
        "id": "uBlpZc0VQ8EQ"
      }
    },
    {
      "cell_type": "code",
      "source": [
        "marital_status_ct = compare_groups(\"Marital_Status\")\n",
        "marital_status_ct"
      ],
      "metadata": {
        "colab": {
          "base_uri": "https://localhost:8080/",
          "height": 206
        },
        "id": "MsnGIXXWQibx",
        "outputId": "63007054-ed07-4814-b2f9-f019a0f8246a"
      },
      "execution_count": 22,
      "outputs": [
        {
          "output_type": "execute_result",
          "data": {
            "text/plain": [
              "Group_Name        Active  Deactivated      Diff\n",
              "Marital_Status                                 \n",
              "Divorced        0.074302     0.072884  0.001419\n",
              "Married         0.439227     0.515277 -0.076050\n",
              "Single          0.404295     0.356143  0.048152\n",
              "Unknown         0.082176     0.055697  0.026479"
            ],
            "text/html": [
              "\n",
              "  <div id=\"df-6ec1809b-9ab2-4bd9-a0e1-1c4f7d927ef9\">\n",
              "    <div class=\"colab-df-container\">\n",
              "      <div>\n",
              "<style scoped>\n",
              "    .dataframe tbody tr th:only-of-type {\n",
              "        vertical-align: middle;\n",
              "    }\n",
              "\n",
              "    .dataframe tbody tr th {\n",
              "        vertical-align: top;\n",
              "    }\n",
              "\n",
              "    .dataframe thead th {\n",
              "        text-align: right;\n",
              "    }\n",
              "</style>\n",
              "<table border=\"1\" class=\"dataframe\">\n",
              "  <thead>\n",
              "    <tr style=\"text-align: right;\">\n",
              "      <th>Group_Name</th>\n",
              "      <th>Active</th>\n",
              "      <th>Deactivated</th>\n",
              "      <th>Diff</th>\n",
              "    </tr>\n",
              "    <tr>\n",
              "      <th>Marital_Status</th>\n",
              "      <th></th>\n",
              "      <th></th>\n",
              "      <th></th>\n",
              "    </tr>\n",
              "  </thead>\n",
              "  <tbody>\n",
              "    <tr>\n",
              "      <th>Divorced</th>\n",
              "      <td>0.074302</td>\n",
              "      <td>0.072884</td>\n",
              "      <td>0.001419</td>\n",
              "    </tr>\n",
              "    <tr>\n",
              "      <th>Married</th>\n",
              "      <td>0.439227</td>\n",
              "      <td>0.515277</td>\n",
              "      <td>-0.076050</td>\n",
              "    </tr>\n",
              "    <tr>\n",
              "      <th>Single</th>\n",
              "      <td>0.404295</td>\n",
              "      <td>0.356143</td>\n",
              "      <td>0.048152</td>\n",
              "    </tr>\n",
              "    <tr>\n",
              "      <th>Unknown</th>\n",
              "      <td>0.082176</td>\n",
              "      <td>0.055697</td>\n",
              "      <td>0.026479</td>\n",
              "    </tr>\n",
              "  </tbody>\n",
              "</table>\n",
              "</div>\n",
              "      <button class=\"colab-df-convert\" onclick=\"convertToInteractive('df-6ec1809b-9ab2-4bd9-a0e1-1c4f7d927ef9')\"\n",
              "              title=\"Convert this dataframe to an interactive table.\"\n",
              "              style=\"display:none;\">\n",
              "        \n",
              "  <svg xmlns=\"http://www.w3.org/2000/svg\" height=\"24px\"viewBox=\"0 0 24 24\"\n",
              "       width=\"24px\">\n",
              "    <path d=\"M0 0h24v24H0V0z\" fill=\"none\"/>\n",
              "    <path d=\"M18.56 5.44l.94 2.06.94-2.06 2.06-.94-2.06-.94-.94-2.06-.94 2.06-2.06.94zm-11 1L8.5 8.5l.94-2.06 2.06-.94-2.06-.94L8.5 2.5l-.94 2.06-2.06.94zm10 10l.94 2.06.94-2.06 2.06-.94-2.06-.94-.94-2.06-.94 2.06-2.06.94z\"/><path d=\"M17.41 7.96l-1.37-1.37c-.4-.4-.92-.59-1.43-.59-.52 0-1.04.2-1.43.59L10.3 9.45l-7.72 7.72c-.78.78-.78 2.05 0 2.83L4 21.41c.39.39.9.59 1.41.59.51 0 1.02-.2 1.41-.59l7.78-7.78 2.81-2.81c.8-.78.8-2.07 0-2.86zM5.41 20L4 18.59l7.72-7.72 1.47 1.35L5.41 20z\"/>\n",
              "  </svg>\n",
              "      </button>\n",
              "      \n",
              "  <style>\n",
              "    .colab-df-container {\n",
              "      display:flex;\n",
              "      flex-wrap:wrap;\n",
              "      gap: 12px;\n",
              "    }\n",
              "\n",
              "    .colab-df-convert {\n",
              "      background-color: #E8F0FE;\n",
              "      border: none;\n",
              "      border-radius: 50%;\n",
              "      cursor: pointer;\n",
              "      display: none;\n",
              "      fill: #1967D2;\n",
              "      height: 32px;\n",
              "      padding: 0 0 0 0;\n",
              "      width: 32px;\n",
              "    }\n",
              "\n",
              "    .colab-df-convert:hover {\n",
              "      background-color: #E2EBFA;\n",
              "      box-shadow: 0px 1px 2px rgba(60, 64, 67, 0.3), 0px 1px 3px 1px rgba(60, 64, 67, 0.15);\n",
              "      fill: #174EA6;\n",
              "    }\n",
              "\n",
              "    [theme=dark] .colab-df-convert {\n",
              "      background-color: #3B4455;\n",
              "      fill: #D2E3FC;\n",
              "    }\n",
              "\n",
              "    [theme=dark] .colab-df-convert:hover {\n",
              "      background-color: #434B5C;\n",
              "      box-shadow: 0px 1px 3px 1px rgba(0, 0, 0, 0.15);\n",
              "      filter: drop-shadow(0px 1px 2px rgba(0, 0, 0, 0.3));\n",
              "      fill: #FFFFFF;\n",
              "    }\n",
              "  </style>\n",
              "\n",
              "      <script>\n",
              "        const buttonEl =\n",
              "          document.querySelector('#df-6ec1809b-9ab2-4bd9-a0e1-1c4f7d927ef9 button.colab-df-convert');\n",
              "        buttonEl.style.display =\n",
              "          google.colab.kernel.accessAllowed ? 'block' : 'none';\n",
              "\n",
              "        async function convertToInteractive(key) {\n",
              "          const element = document.querySelector('#df-6ec1809b-9ab2-4bd9-a0e1-1c4f7d927ef9');\n",
              "          const dataTable =\n",
              "            await google.colab.kernel.invokeFunction('convertToInteractive',\n",
              "                                                     [key], {});\n",
              "          if (!dataTable) return;\n",
              "\n",
              "          const docLinkHtml = 'Like what you see? Visit the ' +\n",
              "            '<a target=\"_blank\" href=https://colab.research.google.com/notebooks/data_table.ipynb>data table notebook</a>'\n",
              "            + ' to learn more about interactive tables.';\n",
              "          element.innerHTML = '';\n",
              "          dataTable['output_type'] = 'display_data';\n",
              "          await google.colab.output.renderOutput(dataTable, element);\n",
              "          const docLink = document.createElement('div');\n",
              "          docLink.innerHTML = docLinkHtml;\n",
              "          element.appendChild(docLink);\n",
              "        }\n",
              "      </script>\n",
              "    </div>\n",
              "  </div>\n",
              "  "
            ]
          },
          "metadata": {},
          "execution_count": 22
        }
      ]
    },
    {
      "cell_type": "code",
      "source": [
        "visualize_comparison(marital_status_ct)"
      ],
      "metadata": {
        "colab": {
          "base_uri": "https://localhost:8080/",
          "height": 676
        },
        "id": "yo9d-9GUQ_TU",
        "outputId": "1b3c501a-ebf0-4896-acbb-2623fc70d112"
      },
      "execution_count": 23,
      "outputs": [
        {
          "output_type": "execute_result",
          "data": {
            "text/plain": [
              "<matplotlib.axes._subplots.AxesSubplot at 0x7ffa62223150>"
            ]
          },
          "metadata": {},
          "execution_count": 23
        },
        {
          "output_type": "display_data",
          "data": {
            "text/plain": [
              "<Figure size 1080x720 with 1 Axes>"
            ],
            "image/png": "[encoded data removed]"
          },
          "metadata": {
            "needs_background": "light"
          }
        }
      ]
    },
    {
      "cell_type": "markdown",
      "source": [
        "W przypadku stanu cywilnego możemy zauważyć, że dla kart aktywnych zdecydowanie więcej mamy singli (+4.8%). Karty dezaktywowane z kolei cechują się większym odsetkiem właścicieli, którzy są w związku małżeńskim (7.6%)."
      ],
      "metadata": {
        "id": "Tb8BrxZFRMAM"
      }
    },
    {
      "cell_type": "markdown",
      "source": [
        "Porównanie według Income_Category"
      ],
      "metadata": {
        "id": "dELRQRUyRPYM"
      }
    },
    {
      "cell_type": "code",
      "source": [
        "income_category_ct = compare_groups(\"Income_Category\")\n",
        "income_category_ct"
      ],
      "metadata": {
        "colab": {
          "base_uri": "https://localhost:8080/",
          "height": 269
        },
        "id": "ZKL00hp3RCYS",
        "outputId": "d5e458d3-51f2-4a74-af7c-23bcb58652be"
      },
      "execution_count": 24,
      "outputs": [
        {
          "output_type": "execute_result",
          "data": {
            "text/plain": [
              "Group_Name         Active  Deactivated      Diff\n",
              "Income_Category                                 \n",
              "1. < $40K        0.358769     0.335773  0.022995\n",
              "2. $40K - 60K    0.178096     0.173775  0.004321\n",
              "3. $60K - 80K    0.136722     0.142266 -0.005545\n",
              "4. $80K - 120K   0.146457     0.162954 -0.016497\n",
              "5. 120K+         0.068576     0.078931 -0.010355\n",
              "6. Unknown       0.111382     0.106302  0.005080"
            ],
            "text/html": [
              "\n",
              "  <div id=\"df-2249590d-04aa-48e3-b8d3-d713e98b3418\">\n",
              "    <div class=\"colab-df-container\">\n",
              "      <div>\n",
              "<style scoped>\n",
              "    .dataframe tbody tr th:only-of-type {\n",
              "        vertical-align: middle;\n",
              "    }\n",
              "\n",
              "    .dataframe tbody tr th {\n",
              "        vertical-align: top;\n",
              "    }\n",
              "\n",
              "    .dataframe thead th {\n",
              "        text-align: right;\n",
              "    }\n",
              "</style>\n",
              "<table border=\"1\" class=\"dataframe\">\n",
              "  <thead>\n",
              "    <tr style=\"text-align: right;\">\n",
              "      <th>Group_Name</th>\n",
              "      <th>Active</th>\n",
              "      <th>Deactivated</th>\n",
              "      <th>Diff</th>\n",
              "    </tr>\n",
              "    <tr>\n",
              "      <th>Income_Category</th>\n",
              "      <th></th>\n",
              "      <th></th>\n",
              "      <th></th>\n",
              "    </tr>\n",
              "  </thead>\n",
              "  <tbody>\n",
              "    <tr>\n",
              "      <th>1. &lt; $40K</th>\n",
              "      <td>0.358769</td>\n",
              "      <td>0.335773</td>\n",
              "      <td>0.022995</td>\n",
              "    </tr>\n",
              "    <tr>\n",
              "      <th>2. $40K - 60K</th>\n",
              "      <td>0.178096</td>\n",
              "      <td>0.173775</td>\n",
              "      <td>0.004321</td>\n",
              "    </tr>\n",
              "    <tr>\n",
              "      <th>3. $60K - 80K</th>\n",
              "      <td>0.136722</td>\n",
              "      <td>0.142266</td>\n",
              "      <td>-0.005545</td>\n",
              "    </tr>\n",
              "    <tr>\n",
              "      <th>4. $80K - 120K</th>\n",
              "      <td>0.146457</td>\n",
              "      <td>0.162954</td>\n",
              "      <td>-0.016497</td>\n",
              "    </tr>\n",
              "    <tr>\n",
              "      <th>5. 120K+</th>\n",
              "      <td>0.068576</td>\n",
              "      <td>0.078931</td>\n",
              "      <td>-0.010355</td>\n",
              "    </tr>\n",
              "    <tr>\n",
              "      <th>6. Unknown</th>\n",
              "      <td>0.111382</td>\n",
              "      <td>0.106302</td>\n",
              "      <td>0.005080</td>\n",
              "    </tr>\n",
              "  </tbody>\n",
              "</table>\n",
              "</div>\n",
              "      <button class=\"colab-df-convert\" onclick=\"convertToInteractive('df-2249590d-04aa-48e3-b8d3-d713e98b3418')\"\n",
              "              title=\"Convert this dataframe to an interactive table.\"\n",
              "              style=\"display:none;\">\n",
              "        \n",
              "  <svg xmlns=\"http://www.w3.org/2000/svg\" height=\"24px\"viewBox=\"0 0 24 24\"\n",
              "       width=\"24px\">\n",
              "    <path d=\"M0 0h24v24H0V0z\" fill=\"none\"/>\n",
              "    <path d=\"M18.56 5.44l.94 2.06.94-2.06 2.06-.94-2.06-.94-.94-2.06-.94 2.06-2.06.94zm-11 1L8.5 8.5l.94-2.06 2.06-.94-2.06-.94L8.5 2.5l-.94 2.06-2.06.94zm10 10l.94 2.06.94-2.06 2.06-.94-2.06-.94-.94-2.06-.94 2.06-2.06.94z\"/><path d=\"M17.41 7.96l-1.37-1.37c-.4-.4-.92-.59-1.43-.59-.52 0-1.04.2-1.43.59L10.3 9.45l-7.72 7.72c-.78.78-.78 2.05 0 2.83L4 21.41c.39.39.9.59 1.41.59.51 0 1.02-.2 1.41-.59l7.78-7.78 2.81-2.81c.8-.78.8-2.07 0-2.86zM5.41 20L4 18.59l7.72-7.72 1.47 1.35L5.41 20z\"/>\n",
              "  </svg>\n",
              "      </button>\n",
              "      \n",
              "  <style>\n",
              "    .colab-df-container {\n",
              "      display:flex;\n",
              "      flex-wrap:wrap;\n",
              "      gap: 12px;\n",
              "    }\n",
              "\n",
              "    .colab-df-convert {\n",
              "      background-color: #E8F0FE;\n",
              "      border: none;\n",
              "      border-radius: 50%;\n",
              "      cursor: pointer;\n",
              "      display: none;\n",
              "      fill: #1967D2;\n",
              "      height: 32px;\n",
              "      padding: 0 0 0 0;\n",
              "      width: 32px;\n",
              "    }\n",
              "\n",
              "    .colab-df-convert:hover {\n",
              "      background-color: #E2EBFA;\n",
              "      box-shadow: 0px 1px 2px rgba(60, 64, 67, 0.3), 0px 1px 3px 1px rgba(60, 64, 67, 0.15);\n",
              "      fill: #174EA6;\n",
              "    }\n",
              "\n",
              "    [theme=dark] .colab-df-convert {\n",
              "      background-color: #3B4455;\n",
              "      fill: #D2E3FC;\n",
              "    }\n",
              "\n",
              "    [theme=dark] .colab-df-convert:hover {\n",
              "      background-color: #434B5C;\n",
              "      box-shadow: 0px 1px 3px 1px rgba(0, 0, 0, 0.15);\n",
              "      filter: drop-shadow(0px 1px 2px rgba(0, 0, 0, 0.3));\n",
              "      fill: #FFFFFF;\n",
              "    }\n",
              "  </style>\n",
              "\n",
              "      <script>\n",
              "        const buttonEl =\n",
              "          document.querySelector('#df-2249590d-04aa-48e3-b8d3-d713e98b3418 button.colab-df-convert');\n",
              "        buttonEl.style.display =\n",
              "          google.colab.kernel.accessAllowed ? 'block' : 'none';\n",
              "\n",
              "        async function convertToInteractive(key) {\n",
              "          const element = document.querySelector('#df-2249590d-04aa-48e3-b8d3-d713e98b3418');\n",
              "          const dataTable =\n",
              "            await google.colab.kernel.invokeFunction('convertToInteractive',\n",
              "                                                     [key], {});\n",
              "          if (!dataTable) return;\n",
              "\n",
              "          const docLinkHtml = 'Like what you see? Visit the ' +\n",
              "            '<a target=\"_blank\" href=https://colab.research.google.com/notebooks/data_table.ipynb>data table notebook</a>'\n",
              "            + ' to learn more about interactive tables.';\n",
              "          element.innerHTML = '';\n",
              "          dataTable['output_type'] = 'display_data';\n",
              "          await google.colab.output.renderOutput(dataTable, element);\n",
              "          const docLink = document.createElement('div');\n",
              "          docLink.innerHTML = docLinkHtml;\n",
              "          element.appendChild(docLink);\n",
              "        }\n",
              "      </script>\n",
              "    </div>\n",
              "  </div>\n",
              "  "
            ]
          },
          "metadata": {},
          "execution_count": 24
        }
      ]
    },
    {
      "cell_type": "code",
      "source": [
        "visualize_comparison(income_category_ct)"
      ],
      "metadata": {
        "colab": {
          "base_uri": "https://localhost:8080/",
          "height": 703
        },
        "id": "ocshQNS-RXIf",
        "outputId": "30a49ecc-c3e0-49a0-fa8e-0ed71d32b90c"
      },
      "execution_count": 25,
      "outputs": [
        {
          "output_type": "execute_result",
          "data": {
            "text/plain": [
              "<matplotlib.axes._subplots.AxesSubplot at 0x7ffa6211e690>"
            ]
          },
          "metadata": {},
          "execution_count": 25
        },
        {
          "output_type": "display_data",
          "data": {
            "text/plain": [
              "<Figure size 1080x720 with 1 Axes>"
            ],
            "image/png": "[encoded data removed]"
          },
          "metadata": {
            "needs_background": "light"
          }
        }
      ]
    },
    {
      "cell_type": "markdown",
      "source": [
        "Porównanie według Card_Category"
      ],
      "metadata": {
        "id": "92Qee467RvbU"
      }
    },
    {
      "cell_type": "code",
      "source": [
        "card_category_ct = compare_groups(\"Card_Category\")\n",
        "card_category_ct"
      ],
      "metadata": {
        "colab": {
          "base_uri": "https://localhost:8080/",
          "height": 206
        },
        "id": "5dDY-uziRb1z",
        "outputId": "740bfebb-5d3f-4b36-a056-bc58e4e137a4"
      },
      "execution_count": 26,
      "outputs": [
        {
          "output_type": "execute_result",
          "data": {
            "text/plain": [
              "Group_Name       Active  Deactivated      Diff\n",
              "Card_Category                                 \n",
              "1. Blue        0.920401     0.957034 -0.036633\n",
              "2. Silver      0.062849     0.036919  0.025930\n",
              "3. Gold        0.014173     0.005411  0.008763\n",
              "4. Platinum    0.002577     0.000637  0.001940"
            ],
            "text/html": [
              "\n",
              "  <div id=\"df-95cdc43d-5a4e-41d5-8249-e4cfe771aa5f\">\n",
              "    <div class=\"colab-df-container\">\n",
              "      <div>\n",
              "<style scoped>\n",
              "    .dataframe tbody tr th:only-of-type {\n",
              "        vertical-align: middle;\n",
              "    }\n",
              "\n",
              "    .dataframe tbody tr th {\n",
              "        vertical-align: top;\n",
              "    }\n",
              "\n",
              "    .dataframe thead th {\n",
              "        text-align: right;\n",
              "    }\n",
              "</style>\n",
              "<table border=\"1\" class=\"dataframe\">\n",
              "  <thead>\n",
              "    <tr style=\"text-align: right;\">\n",
              "      <th>Group_Name</th>\n",
              "      <th>Active</th>\n",
              "      <th>Deactivated</th>\n",
              "      <th>Diff</th>\n",
              "    </tr>\n",
              "    <tr>\n",
              "      <th>Card_Category</th>\n",
              "      <th></th>\n",
              "      <th></th>\n",
              "      <th></th>\n",
              "    </tr>\n",
              "  </thead>\n",
              "  <tbody>\n",
              "    <tr>\n",
              "      <th>1. Blue</th>\n",
              "      <td>0.920401</td>\n",
              "      <td>0.957034</td>\n",
              "      <td>-0.036633</td>\n",
              "    </tr>\n",
              "    <tr>\n",
              "      <th>2. Silver</th>\n",
              "      <td>0.062849</td>\n",
              "      <td>0.036919</td>\n",
              "      <td>0.025930</td>\n",
              "    </tr>\n",
              "    <tr>\n",
              "      <th>3. Gold</th>\n",
              "      <td>0.014173</td>\n",
              "      <td>0.005411</td>\n",
              "      <td>0.008763</td>\n",
              "    </tr>\n",
              "    <tr>\n",
              "      <th>4. Platinum</th>\n",
              "      <td>0.002577</td>\n",
              "      <td>0.000637</td>\n",
              "      <td>0.001940</td>\n",
              "    </tr>\n",
              "  </tbody>\n",
              "</table>\n",
              "</div>\n",
              "      <button class=\"colab-df-convert\" onclick=\"convertToInteractive('df-95cdc43d-5a4e-41d5-8249-e4cfe771aa5f')\"\n",
              "              title=\"Convert this dataframe to an interactive table.\"\n",
              "              style=\"display:none;\">\n",
              "        \n",
              "  <svg xmlns=\"http://www.w3.org/2000/svg\" height=\"24px\"viewBox=\"0 0 24 24\"\n",
              "       width=\"24px\">\n",
              "    <path d=\"M0 0h24v24H0V0z\" fill=\"none\"/>\n",
              "    <path d=\"M18.56 5.44l.94 2.06.94-2.06 2.06-.94-2.06-.94-.94-2.06-.94 2.06-2.06.94zm-11 1L8.5 8.5l.94-2.06 2.06-.94-2.06-.94L8.5 2.5l-.94 2.06-2.06.94zm10 10l.94 2.06.94-2.06 2.06-.94-2.06-.94-.94-2.06-.94 2.06-2.06.94z\"/><path d=\"M17.41 7.96l-1.37-1.37c-.4-.4-.92-.59-1.43-.59-.52 0-1.04.2-1.43.59L10.3 9.45l-7.72 7.72c-.78.78-.78 2.05 0 2.83L4 21.41c.39.39.9.59 1.41.59.51 0 1.02-.2 1.41-.59l7.78-7.78 2.81-2.81c.8-.78.8-2.07 0-2.86zM5.41 20L4 18.59l7.72-7.72 1.47 1.35L5.41 20z\"/>\n",
              "  </svg>\n",
              "      </button>\n",
              "      \n",
              "  <style>\n",
              "    .colab-df-container {\n",
              "      display:flex;\n",
              "      flex-wrap:wrap;\n",
              "      gap: 12px;\n",
              "    }\n",
              "\n",
              "    .colab-df-convert {\n",
              "      background-color: #E8F0FE;\n",
              "      border: none;\n",
              "      border-radius: 50%;\n",
              "      cursor: pointer;\n",
              "      display: none;\n",
              "      fill: #1967D2;\n",
              "      height: 32px;\n",
              "      padding: 0 0 0 0;\n",
              "      width: 32px;\n",
              "    }\n",
              "\n",
              "    .colab-df-convert:hover {\n",
              "      background-color: #E2EBFA;\n",
              "      box-shadow: 0px 1px 2px rgba(60, 64, 67, 0.3), 0px 1px 3px 1px rgba(60, 64, 67, 0.15);\n",
              "      fill: #174EA6;\n",
              "    }\n",
              "\n",
              "    [theme=dark] .colab-df-convert {\n",
              "      background-color: #3B4455;\n",
              "      fill: #D2E3FC;\n",
              "    }\n",
              "\n",
              "    [theme=dark] .colab-df-convert:hover {\n",
              "      background-color: #434B5C;\n",
              "      box-shadow: 0px 1px 3px 1px rgba(0, 0, 0, 0.15);\n",
              "      filter: drop-shadow(0px 1px 2px rgba(0, 0, 0, 0.3));\n",
              "      fill: #FFFFFF;\n",
              "    }\n",
              "  </style>\n",
              "\n",
              "      <script>\n",
              "        const buttonEl =\n",
              "          document.querySelector('#df-95cdc43d-5a4e-41d5-8249-e4cfe771aa5f button.colab-df-convert');\n",
              "        buttonEl.style.display =\n",
              "          google.colab.kernel.accessAllowed ? 'block' : 'none';\n",
              "\n",
              "        async function convertToInteractive(key) {\n",
              "          const element = document.querySelector('#df-95cdc43d-5a4e-41d5-8249-e4cfe771aa5f');\n",
              "          const dataTable =\n",
              "            await google.colab.kernel.invokeFunction('convertToInteractive',\n",
              "                                                     [key], {});\n",
              "          if (!dataTable) return;\n",
              "\n",
              "          const docLinkHtml = 'Like what you see? Visit the ' +\n",
              "            '<a target=\"_blank\" href=https://colab.research.google.com/notebooks/data_table.ipynb>data table notebook</a>'\n",
              "            + ' to learn more about interactive tables.';\n",
              "          element.innerHTML = '';\n",
              "          dataTable['output_type'] = 'display_data';\n",
              "          await google.colab.output.renderOutput(dataTable, element);\n",
              "          const docLink = document.createElement('div');\n",
              "          docLink.innerHTML = docLinkHtml;\n",
              "          element.appendChild(docLink);\n",
              "        }\n",
              "      </script>\n",
              "    </div>\n",
              "  </div>\n",
              "  "
            ]
          },
          "metadata": {},
          "execution_count": 26
        }
      ]
    },
    {
      "cell_type": "code",
      "source": [
        "visualize_comparison(card_category_ct)"
      ],
      "metadata": {
        "colab": {
          "base_uri": "https://localhost:8080/",
          "height": 686
        },
        "id": "9m2wiM1GRyE2",
        "outputId": "424c813e-d145-4566-a387-040e68d1b935"
      },
      "execution_count": 27,
      "outputs": [
        {
          "output_type": "execute_result",
          "data": {
            "text/plain": [
              "<matplotlib.axes._subplots.AxesSubplot at 0x7ffa62041710>"
            ]
          },
          "metadata": {},
          "execution_count": 27
        },
        {
          "output_type": "display_data",
          "data": {
            "text/plain": [
              "<Figure size 1080x720 with 1 Axes>"
            ],
            "image/png": "[encoded data removed]"
          },
          "metadata": {
            "needs_background": "light"
          }
        }
      ]
    },
    {
      "cell_type": "markdown",
      "source": [
        "Porównanie według Years_on_book"
      ],
      "metadata": {
        "id": "IC46qnuzSBRE"
      }
    },
    {
      "cell_type": "code",
      "source": [
        "years_on_book_ct = compare_groups(\"Years_on_book\")\n",
        "years_on_book_ct"
      ],
      "metadata": {
        "colab": {
          "base_uri": "https://localhost:8080/",
          "height": 206
        },
        "id": "BFc4EFm2R3jM",
        "outputId": "e804741f-ed56-4c07-bc9b-2539fb1383ba"
      },
      "execution_count": 28,
      "outputs": [
        {
          "output_type": "execute_result",
          "data": {
            "text/plain": [
              "Group_Name       Active  Deactivated      Diff\n",
              "Years_on_book                                 \n",
              "(1, 2]         0.062849     0.129854 -0.067005\n",
              "(2, 3]         0.541016     0.521642  0.019374\n",
              "(3, 4]         0.337724     0.269892  0.067832\n",
              "(4, 5]         0.058411     0.078612 -0.020201"
            ],
            "text/html": [
              "\n",
              "  <div id=\"df-9c2a6935-1b39-42ad-b3e8-96909db6f782\">\n",
              "    <div class=\"colab-df-container\">\n",
              "      <div>\n",
              "<style scoped>\n",
              "    .dataframe tbody tr th:only-of-type {\n",
              "        vertical-align: middle;\n",
              "    }\n",
              "\n",
              "    .dataframe tbody tr th {\n",
              "        vertical-align: top;\n",
              "    }\n",
              "\n",
              "    .dataframe thead th {\n",
              "        text-align: right;\n",
              "    }\n",
              "</style>\n",
              "<table border=\"1\" class=\"dataframe\">\n",
              "  <thead>\n",
              "    <tr style=\"text-align: right;\">\n",
              "      <th>Group_Name</th>\n",
              "      <th>Active</th>\n",
              "      <th>Deactivated</th>\n",
              "      <th>Diff</th>\n",
              "    </tr>\n",
              "    <tr>\n",
              "      <th>Years_on_book</th>\n",
              "      <th></th>\n",
              "      <th></th>\n",
              "      <th></th>\n",
              "    </tr>\n",
              "  </thead>\n",
              "  <tbody>\n",
              "    <tr>\n",
              "      <th>(1, 2]</th>\n",
              "      <td>0.062849</td>\n",
              "      <td>0.129854</td>\n",
              "      <td>-0.067005</td>\n",
              "    </tr>\n",
              "    <tr>\n",
              "      <th>(2, 3]</th>\n",
              "      <td>0.541016</td>\n",
              "      <td>0.521642</td>\n",
              "      <td>0.019374</td>\n",
              "    </tr>\n",
              "    <tr>\n",
              "      <th>(3, 4]</th>\n",
              "      <td>0.337724</td>\n",
              "      <td>0.269892</td>\n",
              "      <td>0.067832</td>\n",
              "    </tr>\n",
              "    <tr>\n",
              "      <th>(4, 5]</th>\n",
              "      <td>0.058411</td>\n",
              "      <td>0.078612</td>\n",
              "      <td>-0.020201</td>\n",
              "    </tr>\n",
              "  </tbody>\n",
              "</table>\n",
              "</div>\n",
              "      <button class=\"colab-df-convert\" onclick=\"convertToInteractive('df-9c2a6935-1b39-42ad-b3e8-96909db6f782')\"\n",
              "              title=\"Convert this dataframe to an interactive table.\"\n",
              "              style=\"display:none;\">\n",
              "        \n",
              "  <svg xmlns=\"http://www.w3.org/2000/svg\" height=\"24px\"viewBox=\"0 0 24 24\"\n",
              "       width=\"24px\">\n",
              "    <path d=\"M0 0h24v24H0V0z\" fill=\"none\"/>\n",
              "    <path d=\"M18.56 5.44l.94 2.06.94-2.06 2.06-.94-2.06-.94-.94-2.06-.94 2.06-2.06.94zm-11 1L8.5 8.5l.94-2.06 2.06-.94-2.06-.94L8.5 2.5l-.94 2.06-2.06.94zm10 10l.94 2.06.94-2.06 2.06-.94-2.06-.94-.94-2.06-.94 2.06-2.06.94z\"/><path d=\"M17.41 7.96l-1.37-1.37c-.4-.4-.92-.59-1.43-.59-.52 0-1.04.2-1.43.59L10.3 9.45l-7.72 7.72c-.78.78-.78 2.05 0 2.83L4 21.41c.39.39.9.59 1.41.59.51 0 1.02-.2 1.41-.59l7.78-7.78 2.81-2.81c.8-.78.8-2.07 0-2.86zM5.41 20L4 18.59l7.72-7.72 1.47 1.35L5.41 20z\"/>\n",
              "  </svg>\n",
              "      </button>\n",
              "      \n",
              "  <style>\n",
              "    .colab-df-container {\n",
              "      display:flex;\n",
              "      flex-wrap:wrap;\n",
              "      gap: 12px;\n",
              "    }\n",
              "\n",
              "    .colab-df-convert {\n",
              "      background-color: #E8F0FE;\n",
              "      border: none;\n",
              "      border-radius: 50%;\n",
              "      cursor: pointer;\n",
              "      display: none;\n",
              "      fill: #1967D2;\n",
              "      height: 32px;\n",
              "      padding: 0 0 0 0;\n",
              "      width: 32px;\n",
              "    }\n",
              "\n",
              "    .colab-df-convert:hover {\n",
              "      background-color: #E2EBFA;\n",
              "      box-shadow: 0px 1px 2px rgba(60, 64, 67, 0.3), 0px 1px 3px 1px rgba(60, 64, 67, 0.15);\n",
              "      fill: #174EA6;\n",
              "    }\n",
              "\n",
              "    [theme=dark] .colab-df-convert {\n",
              "      background-color: #3B4455;\n",
              "      fill: #D2E3FC;\n",
              "    }\n",
              "\n",
              "    [theme=dark] .colab-df-convert:hover {\n",
              "      background-color: #434B5C;\n",
              "      box-shadow: 0px 1px 3px 1px rgba(0, 0, 0, 0.15);\n",
              "      filter: drop-shadow(0px 1px 2px rgba(0, 0, 0, 0.3));\n",
              "      fill: #FFFFFF;\n",
              "    }\n",
              "  </style>\n",
              "\n",
              "      <script>\n",
              "        const buttonEl =\n",
              "          document.querySelector('#df-9c2a6935-1b39-42ad-b3e8-96909db6f782 button.colab-df-convert');\n",
              "        buttonEl.style.display =\n",
              "          google.colab.kernel.accessAllowed ? 'block' : 'none';\n",
              "\n",
              "        async function convertToInteractive(key) {\n",
              "          const element = document.querySelector('#df-9c2a6935-1b39-42ad-b3e8-96909db6f782');\n",
              "          const dataTable =\n",
              "            await google.colab.kernel.invokeFunction('convertToInteractive',\n",
              "                                                     [key], {});\n",
              "          if (!dataTable) return;\n",
              "\n",
              "          const docLinkHtml = 'Like what you see? Visit the ' +\n",
              "            '<a target=\"_blank\" href=https://colab.research.google.com/notebooks/data_table.ipynb>data table notebook</a>'\n",
              "            + ' to learn more about interactive tables.';\n",
              "          element.innerHTML = '';\n",
              "          dataTable['output_type'] = 'display_data';\n",
              "          await google.colab.output.renderOutput(dataTable, element);\n",
              "          const docLink = document.createElement('div');\n",
              "          docLink.innerHTML = docLinkHtml;\n",
              "          element.appendChild(docLink);\n",
              "        }\n",
              "      </script>\n",
              "    </div>\n",
              "  </div>\n",
              "  "
            ]
          },
          "metadata": {},
          "execution_count": 28
        }
      ]
    },
    {
      "cell_type": "code",
      "source": [
        "visualize_comparison(years_on_book_ct)"
      ],
      "metadata": {
        "colab": {
          "base_uri": "https://localhost:8080/",
          "height": 656
        },
        "id": "jQo3C5w2SD-b",
        "outputId": "58d338dd-6294-45bb-eb09-b81f02457b16"
      },
      "execution_count": 29,
      "outputs": [
        {
          "output_type": "execute_result",
          "data": {
            "text/plain": [
              "<matplotlib.axes._subplots.AxesSubplot at 0x7ffa62045510>"
            ]
          },
          "metadata": {},
          "execution_count": 29
        },
        {
          "output_type": "display_data",
          "data": {
            "text/plain": [
              "<Figure size 1080x720 with 1 Axes>"
            ],
            "image/png": "[encoded data removed]"
          },
          "metadata": {
            "needs_background": "light"
          }
        }
      ]
    },
    {
      "cell_type": "markdown",
      "source": [
        "W przypadku zmiennej Years_on_book, która jest agregacją Month_on_book do lat, możemy powiedzieć, że:\n",
        "\n",
        "dla kart założonych do dwóch lat, odsetek kart dezaktywowanych jest wyższy o blisko 7%,\n",
        "dla kart aktywnych od ponad dwóch do czterech lat odsetek kart dezaktywowanych jest niższy, szczególnie w grupie kart założonych od trzech do czterech lat,\n",
        "dla kart aktywnych od czterech do pięciu lat, odsetek kart dezaktywowanych jest wyższy o 2%.\n",
        "Otrzymaliśmy więc wnioski częściowo zgodne z oczekiwaniami, ponieważ wraz ze wzrostem użytkowania kart, odsetek dezaktywacji maleje, z wyłączeniem grupy (4, 5], która być może wymaga odrębnej analizy.\n",
        "\n",
        "Niemniej na ten moment stwierdzimy, że zmienna Years_on_book istotnie różnicuje wejściowy zbiór danych."
      ],
      "metadata": {
        "id": "f4lbPa26Sowh"
      }
    },
    {
      "cell_type": "markdown",
      "source": [
        "Porównanie według Customer_Age_agg"
      ],
      "metadata": {
        "id": "umLOhCttSr_k"
      }
    },
    {
      "cell_type": "code",
      "source": [
        "customer_age_ct = compare_groups(\"Customer_Age_agg\")\n",
        "customer_age_ct"
      ],
      "metadata": {
        "colab": {
          "base_uri": "https://localhost:8080/",
          "height": 300
        },
        "id": "-M855bSrSNO6",
        "outputId": "8962bc13-5ff1-4974-f8c5-25278e0c218d"
      },
      "execution_count": 30,
      "outputs": [
        {
          "output_type": "execute_result",
          "data": {
            "text/plain": [
              "Group_Name          Active  Deactivated      Diff\n",
              "Customer_Age_agg                                 \n",
              "(25, 30]          0.015891     0.049013 -0.033122\n",
              "(30, 35]          0.043951     0.110439 -0.066488\n",
              "(35, 40]          0.126843     0.188415 -0.061572\n",
              "(40, 45]          0.249248     0.166454  0.082794\n",
              "(45, 50]          0.259413     0.183323  0.076090\n",
              "(50, 55]          0.176092     0.164545  0.011547\n",
              "(55, 75]          0.128561     0.137810 -0.009249"
            ],
            "text/html": [
              "\n",
              "  <div id=\"df-7d40e10c-c58c-47a6-ad4e-05ddc05a758e\">\n",
              "    <div class=\"colab-df-container\">\n",
              "      <div>\n",
              "<style scoped>\n",
              "    .dataframe tbody tr th:only-of-type {\n",
              "        vertical-align: middle;\n",
              "    }\n",
              "\n",
              "    .dataframe tbody tr th {\n",
              "        vertical-align: top;\n",
              "    }\n",
              "\n",
              "    .dataframe thead th {\n",
              "        text-align: right;\n",
              "    }\n",
              "</style>\n",
              "<table border=\"1\" class=\"dataframe\">\n",
              "  <thead>\n",
              "    <tr style=\"text-align: right;\">\n",
              "      <th>Group_Name</th>\n",
              "      <th>Active</th>\n",
              "      <th>Deactivated</th>\n",
              "      <th>Diff</th>\n",
              "    </tr>\n",
              "    <tr>\n",
              "      <th>Customer_Age_agg</th>\n",
              "      <th></th>\n",
              "      <th></th>\n",
              "      <th></th>\n",
              "    </tr>\n",
              "  </thead>\n",
              "  <tbody>\n",
              "    <tr>\n",
              "      <th>(25, 30]</th>\n",
              "      <td>0.015891</td>\n",
              "      <td>0.049013</td>\n",
              "      <td>-0.033122</td>\n",
              "    </tr>\n",
              "    <tr>\n",
              "      <th>(30, 35]</th>\n",
              "      <td>0.043951</td>\n",
              "      <td>0.110439</td>\n",
              "      <td>-0.066488</td>\n",
              "    </tr>\n",
              "    <tr>\n",
              "      <th>(35, 40]</th>\n",
              "      <td>0.126843</td>\n",
              "      <td>0.188415</td>\n",
              "      <td>-0.061572</td>\n",
              "    </tr>\n",
              "    <tr>\n",
              "      <th>(40, 45]</th>\n",
              "      <td>0.249248</td>\n",
              "      <td>0.166454</td>\n",
              "      <td>0.082794</td>\n",
              "    </tr>\n",
              "    <tr>\n",
              "      <th>(45, 50]</th>\n",
              "      <td>0.259413</td>\n",
              "      <td>0.183323</td>\n",
              "      <td>0.076090</td>\n",
              "    </tr>\n",
              "    <tr>\n",
              "      <th>(50, 55]</th>\n",
              "      <td>0.176092</td>\n",
              "      <td>0.164545</td>\n",
              "      <td>0.011547</td>\n",
              "    </tr>\n",
              "    <tr>\n",
              "      <th>(55, 75]</th>\n",
              "      <td>0.128561</td>\n",
              "      <td>0.137810</td>\n",
              "      <td>-0.009249</td>\n",
              "    </tr>\n",
              "  </tbody>\n",
              "</table>\n",
              "</div>\n",
              "      <button class=\"colab-df-convert\" onclick=\"convertToInteractive('df-7d40e10c-c58c-47a6-ad4e-05ddc05a758e')\"\n",
              "              title=\"Convert this dataframe to an interactive table.\"\n",
              "              style=\"display:none;\">\n",
              "        \n",
              "  <svg xmlns=\"http://www.w3.org/2000/svg\" height=\"24px\"viewBox=\"0 0 24 24\"\n",
              "       width=\"24px\">\n",
              "    <path d=\"M0 0h24v24H0V0z\" fill=\"none\"/>\n",
              "    <path d=\"M18.56 5.44l.94 2.06.94-2.06 2.06-.94-2.06-.94-.94-2.06-.94 2.06-2.06.94zm-11 1L8.5 8.5l.94-2.06 2.06-.94-2.06-.94L8.5 2.5l-.94 2.06-2.06.94zm10 10l.94 2.06.94-2.06 2.06-.94-2.06-.94-.94-2.06-.94 2.06-2.06.94z\"/><path d=\"M17.41 7.96l-1.37-1.37c-.4-.4-.92-.59-1.43-.59-.52 0-1.04.2-1.43.59L10.3 9.45l-7.72 7.72c-.78.78-.78 2.05 0 2.83L4 21.41c.39.39.9.59 1.41.59.51 0 1.02-.2 1.41-.59l7.78-7.78 2.81-2.81c.8-.78.8-2.07 0-2.86zM5.41 20L4 18.59l7.72-7.72 1.47 1.35L5.41 20z\"/>\n",
              "  </svg>\n",
              "      </button>\n",
              "      \n",
              "  <style>\n",
              "    .colab-df-container {\n",
              "      display:flex;\n",
              "      flex-wrap:wrap;\n",
              "      gap: 12px;\n",
              "    }\n",
              "\n",
              "    .colab-df-convert {\n",
              "      background-color: #E8F0FE;\n",
              "      border: none;\n",
              "      border-radius: 50%;\n",
              "      cursor: pointer;\n",
              "      display: none;\n",
              "      fill: #1967D2;\n",
              "      height: 32px;\n",
              "      padding: 0 0 0 0;\n",
              "      width: 32px;\n",
              "    }\n",
              "\n",
              "    .colab-df-convert:hover {\n",
              "      background-color: #E2EBFA;\n",
              "      box-shadow: 0px 1px 2px rgba(60, 64, 67, 0.3), 0px 1px 3px 1px rgba(60, 64, 67, 0.15);\n",
              "      fill: #174EA6;\n",
              "    }\n",
              "\n",
              "    [theme=dark] .colab-df-convert {\n",
              "      background-color: #3B4455;\n",
              "      fill: #D2E3FC;\n",
              "    }\n",
              "\n",
              "    [theme=dark] .colab-df-convert:hover {\n",
              "      background-color: #434B5C;\n",
              "      box-shadow: 0px 1px 3px 1px rgba(0, 0, 0, 0.15);\n",
              "      filter: drop-shadow(0px 1px 2px rgba(0, 0, 0, 0.3));\n",
              "      fill: #FFFFFF;\n",
              "    }\n",
              "  </style>\n",
              "\n",
              "      <script>\n",
              "        const buttonEl =\n",
              "          document.querySelector('#df-7d40e10c-c58c-47a6-ad4e-05ddc05a758e button.colab-df-convert');\n",
              "        buttonEl.style.display =\n",
              "          google.colab.kernel.accessAllowed ? 'block' : 'none';\n",
              "\n",
              "        async function convertToInteractive(key) {\n",
              "          const element = document.querySelector('#df-7d40e10c-c58c-47a6-ad4e-05ddc05a758e');\n",
              "          const dataTable =\n",
              "            await google.colab.kernel.invokeFunction('convertToInteractive',\n",
              "                                                     [key], {});\n",
              "          if (!dataTable) return;\n",
              "\n",
              "          const docLinkHtml = 'Like what you see? Visit the ' +\n",
              "            '<a target=\"_blank\" href=https://colab.research.google.com/notebooks/data_table.ipynb>data table notebook</a>'\n",
              "            + ' to learn more about interactive tables.';\n",
              "          element.innerHTML = '';\n",
              "          dataTable['output_type'] = 'display_data';\n",
              "          await google.colab.output.renderOutput(dataTable, element);\n",
              "          const docLink = document.createElement('div');\n",
              "          docLink.innerHTML = docLinkHtml;\n",
              "          element.appendChild(docLink);\n",
              "        }\n",
              "      </script>\n",
              "    </div>\n",
              "  </div>\n",
              "  "
            ]
          },
          "metadata": {},
          "execution_count": 30
        }
      ]
    },
    {
      "cell_type": "code",
      "source": [
        "visualize_comparison(customer_age_ct)"
      ],
      "metadata": {
        "colab": {
          "base_uri": "https://localhost:8080/",
          "height": 669
        },
        "id": "KC4igcbeSuqs",
        "outputId": "474cc1c8-63f0-4384-ed30-d8bddb63e21c"
      },
      "execution_count": 31,
      "outputs": [
        {
          "output_type": "execute_result",
          "data": {
            "text/plain": [
              "<matplotlib.axes._subplots.AxesSubplot at 0x7ffa61f9d750>"
            ]
          },
          "metadata": {},
          "execution_count": 31
        },
        {
          "output_type": "display_data",
          "data": {
            "text/plain": [
              "<Figure size 1080x720 with 1 Axes>"
            ],
            "image/png": "[encoded data removed]"
          },
          "metadata": {
            "needs_background": "light"
          }
        }
      ]
    },
    {
      "cell_type": "markdown",
      "source": [
        "Powyższy wykres oraz tabela okazują nam jasno, że Customer_Age_agg po wyodrębnieniu obydwóch grup istotnie różnicuje obydwa zbiory danych. Zwróćmy uwagę na różnice, jakie występują pomiędzy grupami:\n",
        "\n",
        "poniżej 35 lat - tutaj zdecydowanie dominują karty, które zostały dezaktywowane,\n",
        "pomiędzy 35 a 55 lat - tutaj zauważamy podwyższony odsetek posiadaczy kart aktywnych,\n",
        "powyżej 55 lat - różnice są dyskusyjne, ponieważ różnica wynosi niecały 1 punkt procentowy.\n",
        "Niemniej, możemy powiedzieć, że zmienna Customer_Age_agg istotnie różnicuje obydwie populacje."
      ],
      "metadata": {
        "id": "sd_wENrxTTns"
      }
    },
    {
      "cell_type": "code",
      "source": [],
      "metadata": {
        "id": "1jnYnnFlS75p"
      },
      "execution_count": null,
      "outputs": []
    },
    {
      "cell_type": "markdown",
      "source": [
        "Warto w tym miejscu zaznaczyć, że w poprzednim notatniku, gdy analizowaliśmy obydwie grupy jako jedną populację ten obraz był zaciemniony – tj. nie biorąc pod uwagę wieku posiadacza kart nie obserwowaliśmy istotnych zmian pomiędzy odsetkiem kart aktywnych czy dezaktywowanych. Innymi słowy, po rozbiciu zbioru, otrzymaliśmy kolejny wniosek idący z danych."
      ],
      "metadata": {
        "id": "o3sbrDlvTcvM"
      }
    },
    {
      "cell_type": "markdown",
      "source": [
        "Podsumowanie\n",
        "W tym notatniku porównaliśmy między sobą dwie, wyselekcjonowane wcześniej populacje użytkowników kart dezaktywowanych oraz kart nadal aktywnych. Za pomocą zmiennych kategorycznych określiliśmy punkty rozbieżności pomiędzy nimi oraz sprawdziliśmy, gdzie podobieństwa występują. Co istotne, po rozdzieleniu zbioru na dwie podgrupy otrzymaliśmy dodatkowe wnioski płynące z danych takich jak Customer_Age_agg, Marital_Status czy Gender, które przy analizie danych nie zostały określone jako mogące posłużyć do wyodrębnienia oraz opisania poszczególnych grup."
      ],
      "metadata": {
        "id": "wuKoqrNLTjOs"
      }
    },
    {
      "cell_type": "markdown",
      "source": [
        "# Podsumowanie\n",
        "\n",
        "Na zakończenie tego kursu, podsumujemy cały proces przeprowadzonej analizy oraz wydamy potencjalne rekomendacje, które mogą pozwolić zmniejszyć odpływ kart kredytowych.\n",
        "\n",
        "Wnioski płynące z danych\n",
        "Ponieważ w firmie dzieje się coraz gorzej, zostaliśmy poproszeni o przeanalizowanie jednego z jej obszarów – kart kredytowych. Otrzymaliśmy informację, że w tym roku został zaobserwowany wzrost liczby klientów, którzy przestali korzystać z karty kredytowej.\n",
        "\n",
        "W celu przeprowadzenia analizy posłużyliśmy się zbiorem danych pochodzącym z platformy Kaggle – Credit Card customers, za pomocą którego symulowaliśmy rzeczywiste zadanie.\n",
        "\n",
        "Pierwszy krok naszego zadania polegał na eksploracyjnej analizie danych. W jej trakcie przeanalizowaliśmy zmienne kategoryczne, które posłużyły nam do wydobycia informacji płynących z posiadanego zasobu. Co istotne, w trakcie procesu wyodrębniliśmy dwie zmienne – Total_Trans_Amt_agg oraz Total_Trans_Ct_agg, dzięki którym podzieliliśmy naszą populację na dwie mniejsze, które różniły się przede wszystkim odsetkiem dezaktywowanych kart kredytowych.\n",
        "\n",
        "Dzięki podziałowi populacji na dwie grupy byliśmy w stanie porównać je między sobą i określić istotne różnice, dzięki czemu stwierdziliśmy, że częściej dezaktywowane były karty posiadane przez:\n",
        "\n",
        "mężczyzn (+6%),\n",
        "osoby w związkach małżeńskich (+7.6%),\n",
        "klientów, którzy posiadają kartę do dwóch lat (+6.7%),\n",
        "osoby w wieku do 40 lat (około + 6%, w zależności od kategorii)\n",
        "W ten sposób określiliśmy potencjalną grupę, do której można kierować np. dodatkowe promocje dotyczące kart kredytowych, co skłoniłoby te osoby do dalszego korzystania z nich. Innym przykładem może być pewna bonifikata za korzystanie z karty przez okres dłuższy niż dwa lata (choćby niższe oprocentowanie, podniesienie limitu, wydłużenie terminów spłaty), być może po tym okresie klient przywiązuje się do karty.\n",
        "\n",
        "Wyżej wymienione propozycje są przykładowe, niejednokrotnie dla odbiorców biznesowych samo podanie charakterystyki grupy jest wystarczające, aby stworzyć na jej podstawie dalsze działania mające na celu zmianę trendu. Tak przeprowadzoną analizę warto omówić w trakcie spotkania, które zmieni się w burzę mózgów. Uczestnictwo osób pracujących bezpośrednio w danym procesie może sprawić, że analiza zostanie pogłębiona i wyciągnięte zostaną jeszcze inne cenne, dodatkowe wnioski."
      ],
      "metadata": {
        "id": "Vas73StsUG3b"
      }
    },
    {
      "cell_type": "code",
      "source": [],
      "metadata": {
        "id": "SVBWCSesUHxu"
      },
      "execution_count": null,
      "outputs": []
    }
  ]
}